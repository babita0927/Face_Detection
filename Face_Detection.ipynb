{
 "cells": [
  {
   "cell_type": "markdown",
   "id": "1bd52e10",
   "metadata": {},
   "source": [
    "<center style=\"color:green;font-size:30px;\"><u>Face Detection Through Opencv</u></center>"
   ]
  },
  {
   "cell_type": "markdown",
   "id": "82b7d93d",
   "metadata": {},
   "source": [
    "<h2 style=\"color:#CD5C5C;\">Install Requirement</h2>"
   ]
  },
  {
   "cell_type": "code",
   "execution_count": 17,
   "id": "74b579f7",
   "metadata": {},
   "outputs": [
    {
     "name": "stdout",
     "output_type": "stream",
     "text": [
      "Requirement already satisfied: opencv-python in c:\\users\\babit\\anaconda3\\lib\\site-packages (4.7.0.72)\n",
      "Requirement already satisfied: numpy>=1.19.3 in c:\\users\\babit\\anaconda3\\lib\\site-packages (from opencv-python) (1.21.5)\n"
     ]
    }
   ],
   "source": [
    "!pip install opencv-python "
   ]
  },
  {
   "cell_type": "markdown",
   "id": "40d53fad",
   "metadata": {},
   "source": [
    "<h2 style=\"color:#CD5C5C;\">Libraries</h2>"
   ]
  },
  {
   "cell_type": "code",
   "execution_count": 1,
   "id": "01b2ffbd",
   "metadata": {},
   "outputs": [],
   "source": [
    "import numpy as np\n",
    "import cv2\n",
    "import warnings\n",
    "warnings.filterwarnings(\"ignore\")"
   ]
  },
  {
   "cell_type": "markdown",
   "id": "daec3d94",
   "metadata": {},
   "source": [
    "<h2 style=\"color:#CD5C5C;\">Face Detection for Static Image</h2>"
   ]
  },
  {
   "cell_type": "code",
   "execution_count": 4,
   "id": "eb869bb1",
   "metadata": {},
   "outputs": [
    {
     "name": "stdout",
     "output_type": "stream",
     "text": [
      "[[343 111 468 468]]\n"
     ]
    }
   ],
   "source": [
    "face_classifier = cv2.CascadeClassifier(cv2.data.haarcascades +'haarcascade_frontalface_default.xml')\n",
    "image = cv2.imread('1.jpeg')\n",
    "gray = cv2.cvtColor(image, cv2.COLOR_BGR2GRAY) #cvt=convert,gray image bcoz processing fast\n",
    "faces = face_classifier.detectMultiScale(gray,scaleFactor =1.3,minNeighbors =5)\n",
    "if faces is():\n",
    "    print(\"No faces found\")\n",
    "print(faces)\n",
    "\n",
    "for (x,y,w,h) in faces:\n",
    "    cv2.rectangle(image ,(x,y), (x+w,y+h), (127,0,255),2)\n",
    "    cv2.imshow('Face Detection',image)\n",
    "    cv2.waitKey(0)\n",
    "\n",
    "cv2.destroyAllWindows()"
   ]
  },
  {
   "cell_type": "markdown",
   "id": "59c6a8e1",
   "metadata": {},
   "source": [
    "<h2 style=\"color:#CD5C5C;\">Live Face Detection</h2>"
   ]
  },
  {
   "cell_type": "code",
   "execution_count": 7,
   "id": "da6e6985",
   "metadata": {},
   "outputs": [],
   "source": [
    "face_classifier = cv2.CascadeClassifier(cv2.data.haarcascades +'haarcascade_frontalface_default.xml')\n",
    "\n",
    "def detect(gray,frame):\n",
    "    faces = face_classifier.detectMultiScale(gray,1.3,5)\n",
    "    for (x,y,w,h) in faces:\n",
    "        cv2.rectangle(frame ,(x,y), (x+w,y+h), (255,0,0),2)\n",
    "        roi_gray = gray[y:y+h, x:x+w] #crop face rectngle\n",
    "        roi_color = image[y:y+h, x:x+w]\n",
    "\n",
    "    return frame\n",
    "\n",
    "video_capture = cv2.VideoCapture(0)\n",
    "while True:\n",
    "    _,frame = video_capture.read()\n",
    "    gray = cv2.cvtColor(frame,cv2.COLOR_BGR2GRAY)\n",
    "    canvas = detect(gray,frame)\n",
    "    cv2.imshow('Video',canvas)\n",
    "    if cv2.waitKey(1) & 0xFF == ord('q'):\n",
    "        break\n",
    "video_capture.release()\n",
    "cv2.destroyAllWindows()\n",
    "\n",
    "    "
   ]
  },
  {
   "cell_type": "code",
   "execution_count": null,
   "id": "cd93af8b",
   "metadata": {},
   "outputs": [],
   "source": []
  }
 ],
 "metadata": {
  "kernelspec": {
   "display_name": "Python 3 (ipykernel)",
   "language": "python",
   "name": "python3"
  },
  "language_info": {
   "codemirror_mode": {
    "name": "ipython",
    "version": 3
   },
   "file_extension": ".py",
   "mimetype": "text/x-python",
   "name": "python",
   "nbconvert_exporter": "python",
   "pygments_lexer": "ipython3",
   "version": "3.9.13"
  }
 },
 "nbformat": 4,
 "nbformat_minor": 5
}
